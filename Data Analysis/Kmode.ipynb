{
 "cells": [
  {
   "cell_type": "code",
   "execution_count": 2,
   "metadata": {},
   "outputs": [],
   "source": [
    "import pandas as pd\n",
    "file1=pd.read_excel(\"2занятие_анализ_данных_1.xlsx\")\n",
    "file2=pd.read_excel(\"2занятие_анализ_данных_2.xls\")\n",
    "file3=pd.read_excel(\"2занятие_анализ_данных_3.xlsx\")\n",
    "file4=pd.read_excel(\"2занятие_анализ_данных_4.xlsx\")\n",
    "file5=pd.read_excel(\"2занятие_анализ_данных_5.xlsx\")\n",
    "file6=pd.read_excel(\"2занятие_анализ_данных_6.xlsx\")\n",
    "file7=pd.read_excel(\"2занятие_анализ_данных_7.xlsx\")\n",
    "file8=pd.read_excel(\"2занятие_анализ_данных_8.xlsx\")\n",
    "file9=pd.read_excel(\"2занятие_анализ_данных_9.xlsx\")\n",
    "file10=pd.read_excel(\"2занятие_анализ_данных_10.xlsx\")\n",
    "file11=pd.read_excel(\"2занятие_анализ_данных_11.xlsx\")\n",
    "file12=pd.read_excel(\"2занятие_анализ_данных_12.xlsx\")"
   ]
  },
  {
   "cell_type": "code",
   "execution_count": 16,
   "metadata": {},
   "outputs": [],
   "source": [
    "file_uniques = []\n",
    "file_uniques_count = []\n",
    "files = [file1,file2,file3,file4,file5,file6,file7,file8,file9,file10,file11,file12]\n",
    "#so here we have a bunch of files that should be analyse. We should fulfill it with taking down couple of tasks\n",
    "#this one is about to find the count of all different words\n",
    "#then there is some length and letters stuf\n",
    "#the amin thng IT does, is making a list of lists with the list of uniq words from\n",
    "for file in files:\n",
    "    for column in file.columns:\n",
    "        file_uniques[file.__str__].append(file[column].unique())\n",
    "#the string uo we need just to get a name of file(do it)\n",
    "    for unique_list in file_uniques[file.__str__]:\n",
    "        file_uniques_count[file.__str__].append(len(unique_list))"
   ]
  },
  {
   "cell_type": "code",
   "execution_count": 13,
   "metadata": {},
   "outputs": [
    {
     "data": {
      "text/plain": [
       "23340"
      ]
     },
     "execution_count": 13,
     "metadata": {},
     "output_type": "execute_result"
    }
   ],
   "source": [
    "len(file1_uniques[0])"
   ]
  },
  {
   "cell_type": "code",
   "execution_count": 17,
   "metadata": {},
   "outputs": [
    {
     "data": {
      "text/plain": [
       "23340"
      ]
     },
     "execution_count": 17,
     "metadata": {},
     "output_type": "execute_result"
    }
   ],
   "source": [
    "file1_uniques_count[0]"
   ]
  }
 ],
 "metadata": {
  "kernelspec": {
   "display_name": "Python 3",
   "language": "python",
   "name": "python3"
  },
  "language_info": {
   "codemirror_mode": {
    "name": "ipython",
    "version": 3
   },
   "file_extension": ".py",
   "mimetype": "text/x-python",
   "name": "python",
   "nbconvert_exporter": "python",
   "pygments_lexer": "ipython3",
   "version": "3.7.0"
  }
 },
 "nbformat": 4,
 "nbformat_minor": 2
}
